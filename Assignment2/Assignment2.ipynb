{
 "cells": [
  {
   "cell_type": "markdown",
   "id": "13ec3785",
   "metadata": {},
   "source": [
    "# ECE1724 - Assignment 2\n",
    "Prepared by Talha Alvi and Farhan Wadia"
   ]
  },
  {
   "cell_type": "markdown",
   "id": "62802840",
   "metadata": {},
   "source": [
    "## Question 1"
   ]
  },
  {
   "cell_type": "markdown",
   "id": "10241874",
   "metadata": {},
   "source": []
  },
  {
   "cell_type": "markdown",
   "id": "8336f6b5",
   "metadata": {},
   "source": [
    "## Question 2"
   ]
  },
  {
   "cell_type": "code",
   "execution_count": 1,
   "id": "81223535",
   "metadata": {},
   "outputs": [],
   "source": [
    "import pandas as pd\n",
    "\n",
    "# Import the dataset\n",
    "df = pd.read_csv('GTA Delivery Dataset\\GTA Delivery Data.csv')"
   ]
  },
  {
   "cell_type": "code",
   "execution_count": 2,
   "id": "424a2e21-cd7e-4e6c-8218-1a8c0f1b0c68",
   "metadata": {},
   "outputs": [
    {
     "data": {
      "text/html": [
       "<div>\n",
       "<style scoped>\n",
       "    .dataframe tbody tr th:only-of-type {\n",
       "        vertical-align: middle;\n",
       "    }\n",
       "\n",
       "    .dataframe tbody tr th {\n",
       "        vertical-align: top;\n",
       "    }\n",
       "\n",
       "    .dataframe thead th {\n",
       "        text-align: right;\n",
       "    }\n",
       "</style>\n",
       "<table border=\"1\" class=\"dataframe\">\n",
       "  <thead>\n",
       "    <tr style=\"text-align: right;\">\n",
       "      <th></th>\n",
       "      <th>collection_lat</th>\n",
       "      <th>collection_lng</th>\n",
       "      <th>Dropoff Locations Count</th>\n",
       "    </tr>\n",
       "  </thead>\n",
       "  <tbody>\n",
       "    <tr>\n",
       "      <th>0</th>\n",
       "      <td>43.643481</td>\n",
       "      <td>-79.399857</td>\n",
       "      <td>1</td>\n",
       "    </tr>\n",
       "    <tr>\n",
       "      <th>1</th>\n",
       "      <td>43.805779</td>\n",
       "      <td>-79.518231</td>\n",
       "      <td>115</td>\n",
       "    </tr>\n",
       "    <tr>\n",
       "      <th>2</th>\n",
       "      <td>43.838713</td>\n",
       "      <td>-79.315498</td>\n",
       "      <td>59</td>\n",
       "    </tr>\n",
       "  </tbody>\n",
       "</table>\n",
       "</div>"
      ],
      "text/plain": [
       "   collection_lat  collection_lng  Dropoff Locations Count\n",
       "0       43.643481      -79.399857                        1\n",
       "1       43.805779      -79.518231                      115\n",
       "2       43.838713      -79.315498                       59"
      ]
     },
     "execution_count": 2,
     "metadata": {},
     "output_type": "execute_result"
    }
   ],
   "source": [
    "# Obtain the unique collection (source) locations and how many dropoff locations each serves\n",
    "collection_locations = df.groupby(['collection_lat', 'collection_lng']).size().reset_index().rename(columns={0:'Dropoff Locations Count'})\n",
    "collection_locations"
   ]
  },
  {
   "cell_type": "code",
   "execution_count": 3,
   "id": "bb622e89",
   "metadata": {},
   "outputs": [
    {
     "data": {
      "application/vnd.jupyter.widget-view+json": {
       "model_id": "b6e508807dcd40f19d1c2da3d02e6ec8",
       "version_major": 2,
       "version_minor": 0
      },
      "text/plain": [
       "Map(center=[43.760270587628575, -79.46285720082858], controls=(ZoomControl(options=['position', 'zoom_in_text'…"
      ]
     },
     "execution_count": 3,
     "metadata": {},
     "output_type": "execute_result"
    }
   ],
   "source": [
    "import numpy as np\n",
    "from ipyleaflet import *\n",
    "\n",
    "# Plot the locations on a map\n",
    "\n",
    "# Define center point for map\n",
    "avg_lat = np.average(df[['collection_lat', 'dropoff_lat']].values.flatten())\n",
    "avg_lng = np.average(df[['collection_lng', 'dropoff_lng']].values.flatten())\n",
    "center = (avg_lat, avg_lng)\n",
    "\n",
    "m = Map(center=center, zoom=8.5)\n",
    "\n",
    "# Define dropoff marker colours corresponding to each collection location\n",
    "dropoff_colours =['green', 'orange', 'purple']\n",
    "\n",
    "for collection_location_index, collection_location_row in collection_locations.iterrows():\n",
    "    # Plot collection locations with blue marker and icon colour corresponding to dropoff locations\n",
    "    filtered = df[df[\"collection_lat\"] == collection_location_row['collection_lat']]\n",
    "    m.add_layer(Marker(location=(collection_location_row['collection_lat'], collection_location_row['collection_lng']), \n",
    "                       icon=AwesomeIcon(name='car', marker_color='blue', icon_color=dropoff_colours[collection_location_index]), \n",
    "                       draggable=False))\n",
    "    \n",
    "    #Plot dropoff locations in colours corresponding to source (i.e. collection location)\n",
    "    for index, row in filtered.iterrows():\n",
    "         m.add_layer(Marker(location=(row['dropoff_lat'], row['dropoff_lng']), \n",
    "                            icon=AwesomeIcon(name='map-marker', marker_color=dropoff_colours[collection_location_index]),\n",
    "                            draggable=False))\n",
    "    \n",
    "m"
   ]
  },
  {
   "cell_type": "markdown",
   "id": "318dac10",
   "metadata": {},
   "source": [
    "## Question 3"
   ]
  },
  {
   "cell_type": "code",
   "execution_count": null,
   "id": "457c6d59",
   "metadata": {},
   "outputs": [],
   "source": []
  }
 ],
 "metadata": {
  "kernelspec": {
   "display_name": "Python 3 (ipykernel)",
   "language": "python",
   "name": "python3"
  },
  "language_info": {
   "codemirror_mode": {
    "name": "ipython",
    "version": 3
   },
   "file_extension": ".py",
   "mimetype": "text/x-python",
   "name": "python",
   "nbconvert_exporter": "python",
   "pygments_lexer": "ipython3",
   "version": "3.10.5"
  }
 },
 "nbformat": 4,
 "nbformat_minor": 5
}
